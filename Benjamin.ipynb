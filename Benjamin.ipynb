{
 "cells": [
  {
   "cell_type": "code",
   "execution_count": 1,
   "id": "c8b5fb6c",
   "metadata": {},
   "outputs": [],
   "source": [
    "import pandas as pd\n",
    "from sqlalchemy import create_engine"
   ]
  },
  {
   "cell_type": "code",
   "execution_count": 2,
   "id": "94a1c86e",
   "metadata": {},
   "outputs": [
    {
     "data": {
      "text/html": [
       "<div>\n",
       "<style scoped>\n",
       "    .dataframe tbody tr th:only-of-type {\n",
       "        vertical-align: middle;\n",
       "    }\n",
       "\n",
       "    .dataframe tbody tr th {\n",
       "        vertical-align: top;\n",
       "    }\n",
       "\n",
       "    .dataframe thead th {\n",
       "        text-align: right;\n",
       "    }\n",
       "</style>\n",
       "<table border=\"1\" class=\"dataframe\">\n",
       "  <thead>\n",
       "    <tr style=\"text-align: right;\">\n",
       "      <th></th>\n",
       "      <th>Game</th>\n",
       "      <th>ReleaseDate</th>\n",
       "      <th>Genre</th>\n",
       "      <th>TotalEarnings</th>\n",
       "      <th>OnlineEarnings</th>\n",
       "      <th>TotalPlayers</th>\n",
       "      <th>TotalTournaments</th>\n",
       "    </tr>\n",
       "  </thead>\n",
       "  <tbody>\n",
       "    <tr>\n",
       "      <th>0</th>\n",
       "      <td>Age of Empires</td>\n",
       "      <td>1997</td>\n",
       "      <td>NaN</td>\n",
       "      <td>190262.81</td>\n",
       "      <td>156839.89</td>\n",
       "      <td>255</td>\n",
       "      <td>96</td>\n",
       "    </tr>\n",
       "    <tr>\n",
       "      <th>1</th>\n",
       "      <td>Age of Empires II</td>\n",
       "      <td>1999</td>\n",
       "      <td>NaN</td>\n",
       "      <td>2008941.78</td>\n",
       "      <td>619582.87</td>\n",
       "      <td>1392</td>\n",
       "      <td>1031</td>\n",
       "    </tr>\n",
       "    <tr>\n",
       "      <th>2</th>\n",
       "      <td>Age of Empires III</td>\n",
       "      <td>2005</td>\n",
       "      <td>NaN</td>\n",
       "      <td>68613.85</td>\n",
       "      <td>41500.00</td>\n",
       "      <td>108</td>\n",
       "      <td>77</td>\n",
       "    </tr>\n",
       "    <tr>\n",
       "      <th>3</th>\n",
       "      <td>Age of Empires Online</td>\n",
       "      <td>2011</td>\n",
       "      <td>NaN</td>\n",
       "      <td>4853.56</td>\n",
       "      <td>775.00</td>\n",
       "      <td>20</td>\n",
       "      <td>13</td>\n",
       "    </tr>\n",
       "    <tr>\n",
       "      <th>4</th>\n",
       "      <td>Age of Mythology</td>\n",
       "      <td>2002</td>\n",
       "      <td>NaN</td>\n",
       "      <td>52360.00</td>\n",
       "      <td>52000.00</td>\n",
       "      <td>22</td>\n",
       "      <td>6</td>\n",
       "    </tr>\n",
       "  </tbody>\n",
       "</table>\n",
       "</div>"
      ],
      "text/plain": [
       "                    Game  ReleaseDate  Genre  TotalEarnings  OnlineEarnings  \\\n",
       "0         Age of Empires         1997    NaN      190262.81       156839.89   \n",
       "1      Age of Empires II         1999    NaN     2008941.78       619582.87   \n",
       "2     Age of Empires III         2005    NaN       68613.85        41500.00   \n",
       "3  Age of Empires Online         2011    NaN        4853.56          775.00   \n",
       "4       Age of Mythology         2002    NaN       52360.00        52000.00   \n",
       "\n",
       "   TotalPlayers  TotalTournaments  \n",
       "0           255                96  \n",
       "1          1392              1031  \n",
       "2           108                77  \n",
       "3            20                13  \n",
       "4            22                 6  "
      ]
     },
     "execution_count": 2,
     "metadata": {},
     "output_type": "execute_result"
    }
   ],
   "source": [
    "csv_file = \"Resources/GeneralEsportData.csv\"\n",
    "Esport_data_df = pd.read_csv(csv_file)\n",
    "Esport_data_df.head()"
   ]
  },
  {
   "cell_type": "code",
   "execution_count": 3,
   "id": "3ba05687",
   "metadata": {},
   "outputs": [
    {
     "data": {
      "text/html": [
       "<div>\n",
       "<style scoped>\n",
       "    .dataframe tbody tr th:only-of-type {\n",
       "        vertical-align: middle;\n",
       "    }\n",
       "\n",
       "    .dataframe tbody tr th {\n",
       "        vertical-align: top;\n",
       "    }\n",
       "\n",
       "    .dataframe thead th {\n",
       "        text-align: right;\n",
       "    }\n",
       "</style>\n",
       "<table border=\"1\" class=\"dataframe\">\n",
       "  <thead>\n",
       "    <tr style=\"text-align: right;\">\n",
       "      <th></th>\n",
       "      <th>IdNo</th>\n",
       "      <th>TotalMoney</th>\n",
       "      <th>GameName</th>\n",
       "      <th>Genre</th>\n",
       "      <th>PlayerNo</th>\n",
       "      <th>TournamentNo</th>\n",
       "      <th>Top_Country</th>\n",
       "      <th>Top_Country_Earnings</th>\n",
       "      <th>Releaseyear</th>\n",
       "    </tr>\n",
       "  </thead>\n",
       "  <tbody>\n",
       "    <tr>\n",
       "      <th>0</th>\n",
       "      <td>613</td>\n",
       "      <td>310.00</td>\n",
       "      <td>Acceleration of SUGURI 2</td>\n",
       "      <td>Fighting Game</td>\n",
       "      <td>6</td>\n",
       "      <td>2</td>\n",
       "      <td>United States</td>\n",
       "      <td>310.00</td>\n",
       "      <td>2018</td>\n",
       "    </tr>\n",
       "    <tr>\n",
       "      <th>1</th>\n",
       "      <td>510</td>\n",
       "      <td>190075.61</td>\n",
       "      <td>Age of Empires</td>\n",
       "      <td>Strategy</td>\n",
       "      <td>246</td>\n",
       "      <td>95</td>\n",
       "      <td>Viet Nam</td>\n",
       "      <td>123408.43</td>\n",
       "      <td>1997</td>\n",
       "    </tr>\n",
       "    <tr>\n",
       "      <th>2</th>\n",
       "      <td>179</td>\n",
       "      <td>1492489.51</td>\n",
       "      <td>Age of Empires II</td>\n",
       "      <td>Strategy</td>\n",
       "      <td>956</td>\n",
       "      <td>576</td>\n",
       "      <td>China</td>\n",
       "      <td>174252.44</td>\n",
       "      <td>1999</td>\n",
       "    </tr>\n",
       "    <tr>\n",
       "      <th>3</th>\n",
       "      <td>177</td>\n",
       "      <td>68113.85</td>\n",
       "      <td>Age of Empires III</td>\n",
       "      <td>Strategy</td>\n",
       "      <td>106</td>\n",
       "      <td>76</td>\n",
       "      <td>United States</td>\n",
       "      <td>18523.52</td>\n",
       "      <td>2005</td>\n",
       "    </tr>\n",
       "    <tr>\n",
       "      <th>4</th>\n",
       "      <td>540</td>\n",
       "      <td>2668.00</td>\n",
       "      <td>Age of Empires Online</td>\n",
       "      <td>Strategy</td>\n",
       "      <td>16</td>\n",
       "      <td>7</td>\n",
       "      <td>Germany</td>\n",
       "      <td>1264.00</td>\n",
       "      <td>2011</td>\n",
       "    </tr>\n",
       "  </tbody>\n",
       "</table>\n",
       "</div>"
      ],
      "text/plain": [
       "   IdNo  TotalMoney                  GameName          Genre  PlayerNo  \\\n",
       "0   613      310.00  Acceleration of SUGURI 2  Fighting Game         6   \n",
       "1   510   190075.61            Age of Empires       Strategy       246   \n",
       "2   179  1492489.51         Age of Empires II       Strategy       956   \n",
       "3   177    68113.85        Age of Empires III       Strategy       106   \n",
       "4   540     2668.00     Age of Empires Online       Strategy        16   \n",
       "\n",
       "   TournamentNo    Top_Country  Top_Country_Earnings  Releaseyear  \n",
       "0             2  United States                310.00         2018  \n",
       "1            95       Viet Nam             123408.43         1997  \n",
       "2           576          China             174252.44         1999  \n",
       "3            76  United States              18523.52         2005  \n",
       "4             7        Germany               1264.00         2011  "
      ]
     },
     "execution_count": 3,
     "metadata": {},
     "output_type": "execute_result"
    }
   ],
   "source": [
    "Player_file = \"Resources/Additional Optional Data/Esport_Earnings.csv\"\n",
    "PlayerEarnings_data_df = pd.read_csv(Player_file)\n",
    "PlayerEarnings_data_df.head()"
   ]
  },
  {
   "cell_type": "code",
   "execution_count": 4,
   "id": "ff16068f",
   "metadata": {},
   "outputs": [],
   "source": [
    "# Creating a database connection\n",
    "rds_connection_string = \"postgres:postgres@localhost:5432/gaming_db\"\n",
    "engine = create_engine(f'postgresql://{rds_connection_string}')"
   ]
  },
  {
   "cell_type": "code",
   "execution_count": 5,
   "id": "28da8bc1",
   "metadata": {},
   "outputs": [
    {
     "name": "stderr",
     "output_type": "stream",
     "text": [
      "<ipython-input-5-2d97e9123e98>:2: SADeprecationWarning: The Engine.table_names() method is deprecated and will be removed in a future release.  Please refer to Inspector.get_table_names(). (deprecated since: 1.4)\n",
      "  engine.table_names()\n"
     ]
    },
    {
     "data": {
      "text/plain": [
       "['Esport_data', 'earnings_data']"
      ]
     },
     "execution_count": 5,
     "metadata": {},
     "output_type": "execute_result"
    }
   ],
   "source": [
    "# Confirm tables\n",
    "engine.table_names()"
   ]
  },
  {
   "cell_type": "code",
   "execution_count": 6,
   "id": "a9b4febe",
   "metadata": {},
   "outputs": [],
   "source": [
    "# Loading tables into gaming_db\n",
    "Esport_data_df.to_sql(name='Esport_data',con=engine,if_exists='append', index=False)"
   ]
  },
  {
   "cell_type": "code",
   "execution_count": 9,
   "id": "ee161452",
   "metadata": {},
   "outputs": [],
   "source": [
    "PlayerEarnings_data_df.to_sql(name='PlayerEarnings_data',con=engine,if_exists='append', index=False)"
   ]
  },
  {
   "cell_type": "code",
   "execution_count": 10,
   "id": "fb7e8886",
   "metadata": {},
   "outputs": [
    {
     "name": "stderr",
     "output_type": "stream",
     "text": [
      "<ipython-input-10-2d97e9123e98>:2: SADeprecationWarning: The Engine.table_names() method is deprecated and will be removed in a future release.  Please refer to Inspector.get_table_names(). (deprecated since: 1.4)\n",
      "  engine.table_names()\n"
     ]
    },
    {
     "data": {
      "text/plain": [
       "['Esport_data', 'earnings_data', 'PlayerEarnings_data']"
      ]
     },
     "execution_count": 10,
     "metadata": {},
     "output_type": "execute_result"
    }
   ],
   "source": [
    "# Confirm tables\n",
    "engine.table_names()"
   ]
  },
  {
   "cell_type": "code",
   "execution_count": null,
   "id": "3b09d48c",
   "metadata": {},
   "outputs": [],
   "source": []
  }
 ],
 "metadata": {
  "kernelspec": {
   "display_name": "Python 3",
   "language": "python",
   "name": "python3"
  },
  "language_info": {
   "codemirror_mode": {
    "name": "ipython",
    "version": 3
   },
   "file_extension": ".py",
   "mimetype": "text/x-python",
   "name": "python",
   "nbconvert_exporter": "python",
   "pygments_lexer": "ipython3",
   "version": "3.8.8"
  }
 },
 "nbformat": 4,
 "nbformat_minor": 5
}
