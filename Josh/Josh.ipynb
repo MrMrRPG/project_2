{
 "cells": [
  {
   "cell_type": "code",
   "execution_count": 1,
   "source": [
    "import pandas as pd"
   ],
   "outputs": [],
   "metadata": {}
  },
  {
   "cell_type": "code",
   "execution_count": 7,
   "source": [
    "file_path = \"../Resources/GeneralEsportData.csv\"\r\n",
    "df = pd.read_csv(file_path, encoding=\"ISO-8859-13\")\r\n",
    "df['Game'].unique"
   ],
   "outputs": [
    {
     "output_type": "execute_result",
     "data": {
      "text/plain": [
       "<bound method Series.unique of 0                                    Age of Empires\n",
       "1                                 Age of Empires II\n",
       "2                                Age of Empires III\n",
       "3                             Age of Empires Online\n",
       "4                                  Age of Mythology\n",
       "                           ...                     \n",
       "534                  Gears of War: Ultimate Edition\n",
       "535                                   Knockout City\n",
       "536    Mobile Suit Gundam: Extreme Vs Maxi Boost ON\n",
       "537                                   Rogue Company\n",
       "538                                  The Division 2\n",
       "Name: Game, Length: 539, dtype: object>"
      ]
     },
     "metadata": {},
     "execution_count": 7
    }
   ],
   "metadata": {}
  },
  {
   "cell_type": "code",
   "execution_count": null,
   "source": [],
   "outputs": [],
   "metadata": {}
  }
 ],
 "metadata": {
  "orig_nbformat": 4,
  "language_info": {
   "name": "python",
   "version": "3.8.5",
   "mimetype": "text/x-python",
   "codemirror_mode": {
    "name": "ipython",
    "version": 3
   },
   "pygments_lexer": "ipython3",
   "nbconvert_exporter": "python",
   "file_extension": ".py"
  },
  "kernelspec": {
   "name": "python3",
   "display_name": "Python 3.8.5 64-bit"
  },
  "interpreter": {
   "hash": "afae373feb22720441ef4b0afdb2fe79a8e93aec5e400fe4bc616a2eee5ab87c"
  }
 },
 "nbformat": 4,
 "nbformat_minor": 2
}